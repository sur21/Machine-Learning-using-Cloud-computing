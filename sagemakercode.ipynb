{
 "cells": [
  {
   "cell_type": "code",
   "execution_count": 1,
   "metadata": {},
   "outputs": [
    {
     "name": "stdout",
     "output_type": "stream",
     "text": [
      "sagemaker.config INFO - Not applying SDK defaults from location: C:\\ProgramData\\sagemaker\\sagemaker\\config.yaml\n",
      "sagemaker.config INFO - Not applying SDK defaults from location: C:\\Users\\surya\\AppData\\Local\\sagemaker\\sagemaker\\config.yaml\n",
      "<sagemaker.session.Session object at 0x000001DEF45DDF90>\n",
      "Using bucketmobbucketsagemaker\n"
     ]
    }
   ],
   "source": [
    "import sagemaker \n",
    "from sklearn.model_selection import train_test_split\n",
    "import boto3\n",
    "import pandas as pd\n",
    "\n",
    "\n",
    "region_name = 'us-east-1'\n",
    "sm_boto3 = boto3.client('sagemaker', region_name=region_name)\n",
    "\n",
    "sess = sagemaker.Session(sagemaker_client=sm_boto3, boto_session=boto3.Session(region_name=region_name))\n",
    "print(sess)\n",
    "\n",
    "\n",
    "bucket = 'mobbucketsagemaker'\n",
    "print(\"Using bucket\" + bucket)\n",
    "\n"
   ]
  },
  {
   "cell_type": "code",
   "execution_count": 2,
   "metadata": {},
   "outputs": [],
   "source": [
    "df=pd.read_csv(\"Cellphone.csv\")"
   ]
  },
  {
   "cell_type": "code",
   "execution_count": 3,
   "metadata": {},
   "outputs": [
    {
     "data": {
      "text/html": [
       "<div>\n",
       "<style scoped>\n",
       "    .dataframe tbody tr th:only-of-type {\n",
       "        vertical-align: middle;\n",
       "    }\n",
       "\n",
       "    .dataframe tbody tr th {\n",
       "        vertical-align: top;\n",
       "    }\n",
       "\n",
       "    .dataframe thead th {\n",
       "        text-align: right;\n",
       "    }\n",
       "</style>\n",
       "<table border=\"1\" class=\"dataframe\">\n",
       "  <thead>\n",
       "    <tr style=\"text-align: right;\">\n",
       "      <th></th>\n",
       "      <th>Product_id</th>\n",
       "      <th>Price</th>\n",
       "      <th>Sale</th>\n",
       "      <th>weight</th>\n",
       "      <th>resoloution</th>\n",
       "      <th>ppi</th>\n",
       "      <th>cpu core</th>\n",
       "      <th>cpu freq</th>\n",
       "      <th>internal mem</th>\n",
       "      <th>ram</th>\n",
       "      <th>RearCam</th>\n",
       "      <th>Front_Cam</th>\n",
       "      <th>battery</th>\n",
       "      <th>thickness</th>\n",
       "    </tr>\n",
       "  </thead>\n",
       "  <tbody>\n",
       "    <tr>\n",
       "      <th>0</th>\n",
       "      <td>203</td>\n",
       "      <td>2357</td>\n",
       "      <td>10</td>\n",
       "      <td>135.0</td>\n",
       "      <td>5.2</td>\n",
       "      <td>424</td>\n",
       "      <td>8</td>\n",
       "      <td>1.35</td>\n",
       "      <td>16.0</td>\n",
       "      <td>3.000</td>\n",
       "      <td>13.00</td>\n",
       "      <td>8.0</td>\n",
       "      <td>2610</td>\n",
       "      <td>7.4</td>\n",
       "    </tr>\n",
       "    <tr>\n",
       "      <th>1</th>\n",
       "      <td>880</td>\n",
       "      <td>1749</td>\n",
       "      <td>10</td>\n",
       "      <td>125.0</td>\n",
       "      <td>4.0</td>\n",
       "      <td>233</td>\n",
       "      <td>2</td>\n",
       "      <td>1.30</td>\n",
       "      <td>4.0</td>\n",
       "      <td>1.000</td>\n",
       "      <td>3.15</td>\n",
       "      <td>0.0</td>\n",
       "      <td>1700</td>\n",
       "      <td>9.9</td>\n",
       "    </tr>\n",
       "    <tr>\n",
       "      <th>2</th>\n",
       "      <td>40</td>\n",
       "      <td>1916</td>\n",
       "      <td>10</td>\n",
       "      <td>110.0</td>\n",
       "      <td>4.7</td>\n",
       "      <td>312</td>\n",
       "      <td>4</td>\n",
       "      <td>1.20</td>\n",
       "      <td>8.0</td>\n",
       "      <td>1.500</td>\n",
       "      <td>13.00</td>\n",
       "      <td>5.0</td>\n",
       "      <td>2000</td>\n",
       "      <td>7.6</td>\n",
       "    </tr>\n",
       "    <tr>\n",
       "      <th>3</th>\n",
       "      <td>99</td>\n",
       "      <td>1315</td>\n",
       "      <td>11</td>\n",
       "      <td>118.5</td>\n",
       "      <td>4.0</td>\n",
       "      <td>233</td>\n",
       "      <td>2</td>\n",
       "      <td>1.30</td>\n",
       "      <td>4.0</td>\n",
       "      <td>0.512</td>\n",
       "      <td>3.15</td>\n",
       "      <td>0.0</td>\n",
       "      <td>1400</td>\n",
       "      <td>11.0</td>\n",
       "    </tr>\n",
       "    <tr>\n",
       "      <th>4</th>\n",
       "      <td>880</td>\n",
       "      <td>1749</td>\n",
       "      <td>11</td>\n",
       "      <td>125.0</td>\n",
       "      <td>4.0</td>\n",
       "      <td>233</td>\n",
       "      <td>2</td>\n",
       "      <td>1.30</td>\n",
       "      <td>4.0</td>\n",
       "      <td>1.000</td>\n",
       "      <td>3.15</td>\n",
       "      <td>0.0</td>\n",
       "      <td>1700</td>\n",
       "      <td>9.9</td>\n",
       "    </tr>\n",
       "  </tbody>\n",
       "</table>\n",
       "</div>"
      ],
      "text/plain": [
       "   Product_id  Price  Sale  weight  resoloution  ppi  cpu core  cpu freq  \\\n",
       "0         203   2357    10   135.0          5.2  424         8      1.35   \n",
       "1         880   1749    10   125.0          4.0  233         2      1.30   \n",
       "2          40   1916    10   110.0          4.7  312         4      1.20   \n",
       "3          99   1315    11   118.5          4.0  233         2      1.30   \n",
       "4         880   1749    11   125.0          4.0  233         2      1.30   \n",
       "\n",
       "   internal mem    ram  RearCam  Front_Cam  battery  thickness  \n",
       "0          16.0  3.000    13.00        8.0     2610        7.4  \n",
       "1           4.0  1.000     3.15        0.0     1700        9.9  \n",
       "2           8.0  1.500    13.00        5.0     2000        7.6  \n",
       "3           4.0  0.512     3.15        0.0     1400       11.0  \n",
       "4           4.0  1.000     3.15        0.0     1700        9.9  "
      ]
     },
     "execution_count": 3,
     "metadata": {},
     "output_type": "execute_result"
    }
   ],
   "source": [
    "df.head()"
   ]
  },
  {
   "cell_type": "code",
   "execution_count": 4,
   "metadata": {},
   "outputs": [
    {
     "data": {
      "text/plain": [
       "(161, 14)"
      ]
     },
     "execution_count": 4,
     "metadata": {},
     "output_type": "execute_result"
    }
   ],
   "source": [
    "df.shape"
   ]
  },
  {
   "cell_type": "code",
   "execution_count": 5,
   "metadata": {},
   "outputs": [
    {
     "data": {
      "text/plain": [
       "Index(['Product_id', 'Price', 'Sale', 'weight', 'resoloution', 'ppi',\n",
       "       'cpu core', 'cpu freq', 'internal mem', 'ram', 'RearCam', 'Front_Cam',\n",
       "       'battery', 'thickness'],\n",
       "      dtype='object')"
      ]
     },
     "execution_count": 5,
     "metadata": {},
     "output_type": "execute_result"
    }
   ],
   "source": [
    "df.columns"
   ]
  },
  {
   "cell_type": "code",
   "execution_count": 6,
   "metadata": {},
   "outputs": [
    {
     "data": {
      "text/plain": [
       "Product_id      0.0\n",
       "Price           0.0\n",
       "Sale            0.0\n",
       "weight          0.0\n",
       "resoloution     0.0\n",
       "ppi             0.0\n",
       "cpu core        0.0\n",
       "cpu freq        0.0\n",
       "internal mem    0.0\n",
       "ram             0.0\n",
       "RearCam         0.0\n",
       "Front_Cam       0.0\n",
       "battery         0.0\n",
       "thickness       0.0\n",
       "dtype: float64"
      ]
     },
     "execution_count": 6,
     "metadata": {},
     "output_type": "execute_result"
    }
   ],
   "source": [
    "df.isnull().mean()*100"
   ]
  },
  {
   "cell_type": "code",
   "execution_count": 7,
   "metadata": {},
   "outputs": [
    {
     "data": {
      "text/plain": [
       "['Product_id',\n",
       " 'Price',\n",
       " 'Sale',\n",
       " 'weight',\n",
       " 'resoloution',\n",
       " 'ppi',\n",
       " 'cpu core',\n",
       " 'cpu freq',\n",
       " 'internal mem',\n",
       " 'ram',\n",
       " 'RearCam',\n",
       " 'Front_Cam',\n",
       " 'battery',\n",
       " 'thickness']"
      ]
     },
     "execution_count": 7,
     "metadata": {},
     "output_type": "execute_result"
    }
   ],
   "source": [
    "features = list(df.columns)\n",
    "features"
   ]
  },
  {
   "cell_type": "code",
   "execution_count": 8,
   "metadata": {},
   "outputs": [
    {
     "data": {
      "text/plain": [
       "'thickness'"
      ]
     },
     "execution_count": 8,
     "metadata": {},
     "output_type": "execute_result"
    }
   ],
   "source": [
    "label = features.pop(-1)\n",
    "label"
   ]
  },
  {
   "cell_type": "code",
   "execution_count": 9,
   "metadata": {},
   "outputs": [],
   "source": [
    "x=df[features]\n",
    "y=df[label]"
   ]
  },
  {
   "cell_type": "code",
   "execution_count": 10,
   "metadata": {},
   "outputs": [
    {
     "data": {
      "text/html": [
       "<div>\n",
       "<style scoped>\n",
       "    .dataframe tbody tr th:only-of-type {\n",
       "        vertical-align: middle;\n",
       "    }\n",
       "\n",
       "    .dataframe tbody tr th {\n",
       "        vertical-align: top;\n",
       "    }\n",
       "\n",
       "    .dataframe thead th {\n",
       "        text-align: right;\n",
       "    }\n",
       "</style>\n",
       "<table border=\"1\" class=\"dataframe\">\n",
       "  <thead>\n",
       "    <tr style=\"text-align: right;\">\n",
       "      <th></th>\n",
       "      <th>Product_id</th>\n",
       "      <th>Price</th>\n",
       "      <th>Sale</th>\n",
       "      <th>weight</th>\n",
       "      <th>resoloution</th>\n",
       "      <th>ppi</th>\n",
       "      <th>cpu core</th>\n",
       "      <th>cpu freq</th>\n",
       "      <th>internal mem</th>\n",
       "      <th>ram</th>\n",
       "      <th>RearCam</th>\n",
       "      <th>Front_Cam</th>\n",
       "      <th>battery</th>\n",
       "    </tr>\n",
       "  </thead>\n",
       "  <tbody>\n",
       "    <tr>\n",
       "      <th>0</th>\n",
       "      <td>203</td>\n",
       "      <td>2357</td>\n",
       "      <td>10</td>\n",
       "      <td>135.0</td>\n",
       "      <td>5.2</td>\n",
       "      <td>424</td>\n",
       "      <td>8</td>\n",
       "      <td>1.35</td>\n",
       "      <td>16.0</td>\n",
       "      <td>3.000</td>\n",
       "      <td>13.00</td>\n",
       "      <td>8.0</td>\n",
       "      <td>2610</td>\n",
       "    </tr>\n",
       "    <tr>\n",
       "      <th>1</th>\n",
       "      <td>880</td>\n",
       "      <td>1749</td>\n",
       "      <td>10</td>\n",
       "      <td>125.0</td>\n",
       "      <td>4.0</td>\n",
       "      <td>233</td>\n",
       "      <td>2</td>\n",
       "      <td>1.30</td>\n",
       "      <td>4.0</td>\n",
       "      <td>1.000</td>\n",
       "      <td>3.15</td>\n",
       "      <td>0.0</td>\n",
       "      <td>1700</td>\n",
       "    </tr>\n",
       "    <tr>\n",
       "      <th>2</th>\n",
       "      <td>40</td>\n",
       "      <td>1916</td>\n",
       "      <td>10</td>\n",
       "      <td>110.0</td>\n",
       "      <td>4.7</td>\n",
       "      <td>312</td>\n",
       "      <td>4</td>\n",
       "      <td>1.20</td>\n",
       "      <td>8.0</td>\n",
       "      <td>1.500</td>\n",
       "      <td>13.00</td>\n",
       "      <td>5.0</td>\n",
       "      <td>2000</td>\n",
       "    </tr>\n",
       "    <tr>\n",
       "      <th>3</th>\n",
       "      <td>99</td>\n",
       "      <td>1315</td>\n",
       "      <td>11</td>\n",
       "      <td>118.5</td>\n",
       "      <td>4.0</td>\n",
       "      <td>233</td>\n",
       "      <td>2</td>\n",
       "      <td>1.30</td>\n",
       "      <td>4.0</td>\n",
       "      <td>0.512</td>\n",
       "      <td>3.15</td>\n",
       "      <td>0.0</td>\n",
       "      <td>1400</td>\n",
       "    </tr>\n",
       "    <tr>\n",
       "      <th>4</th>\n",
       "      <td>880</td>\n",
       "      <td>1749</td>\n",
       "      <td>11</td>\n",
       "      <td>125.0</td>\n",
       "      <td>4.0</td>\n",
       "      <td>233</td>\n",
       "      <td>2</td>\n",
       "      <td>1.30</td>\n",
       "      <td>4.0</td>\n",
       "      <td>1.000</td>\n",
       "      <td>3.15</td>\n",
       "      <td>0.0</td>\n",
       "      <td>1700</td>\n",
       "    </tr>\n",
       "  </tbody>\n",
       "</table>\n",
       "</div>"
      ],
      "text/plain": [
       "   Product_id  Price  Sale  weight  resoloution  ppi  cpu core  cpu freq  \\\n",
       "0         203   2357    10   135.0          5.2  424         8      1.35   \n",
       "1         880   1749    10   125.0          4.0  233         2      1.30   \n",
       "2          40   1916    10   110.0          4.7  312         4      1.20   \n",
       "3          99   1315    11   118.5          4.0  233         2      1.30   \n",
       "4         880   1749    11   125.0          4.0  233         2      1.30   \n",
       "\n",
       "   internal mem    ram  RearCam  Front_Cam  battery  \n",
       "0          16.0  3.000    13.00        8.0     2610  \n",
       "1           4.0  1.000     3.15        0.0     1700  \n",
       "2           8.0  1.500    13.00        5.0     2000  \n",
       "3           4.0  0.512     3.15        0.0     1400  \n",
       "4           4.0  1.000     3.15        0.0     1700  "
      ]
     },
     "execution_count": 10,
     "metadata": {},
     "output_type": "execute_result"
    }
   ],
   "source": [
    "x.head()"
   ]
  },
  {
   "cell_type": "code",
   "execution_count": 11,
   "metadata": {},
   "outputs": [
    {
     "data": {
      "text/plain": [
       "0     7.4\n",
       "1     9.9\n",
       "2     7.6\n",
       "3    11.0\n",
       "4     9.9\n",
       "Name: thickness, dtype: float64"
      ]
     },
     "execution_count": 11,
     "metadata": {},
     "output_type": "execute_result"
    }
   ],
   "source": [
    "y.head()"
   ]
  },
  {
   "cell_type": "code",
   "execution_count": 12,
   "metadata": {},
   "outputs": [
    {
     "data": {
      "text/plain": [
       "(161, 13)"
      ]
     },
     "execution_count": 12,
     "metadata": {},
     "output_type": "execute_result"
    }
   ],
   "source": [
    "x.shape"
   ]
  },
  {
   "cell_type": "code",
   "execution_count": 13,
   "metadata": {},
   "outputs": [
    {
     "data": {
      "text/plain": [
       "thickness\n",
       "8.5     10\n",
       "7.6      9\n",
       "8.0      8\n",
       "7.8      6\n",
       "8.4      6\n",
       "7.3      6\n",
       "5.1      6\n",
       "7.9      6\n",
       "7.4      5\n",
       "10.9     4\n",
       "7.0      4\n",
       "9.0      4\n",
       "9.1      4\n",
       "9.2      4\n",
       "7.5      4\n",
       "8.1      4\n",
       "7.7      4\n",
       "8.9      4\n",
       "10.0     4\n",
       "8.2      3\n",
       "11.0     2\n",
       "12.9     2\n",
       "11.7     2\n",
       "12.4     2\n",
       "9.5      2\n",
       "8.8      2\n",
       "10.8     2\n",
       "15.6     2\n",
       "11.6     2\n",
       "6.3      2\n",
       "9.4      2\n",
       "18.5     2\n",
       "14.1     2\n",
       "10.2     2\n",
       "10.6     2\n",
       "9.7      2\n",
       "13.2     2\n",
       "9.3      2\n",
       "8.3      2\n",
       "12.3     2\n",
       "9.9      2\n",
       "8.7      2\n",
       "10.1     2\n",
       "10.3     2\n",
       "9.8      2\n",
       "5.9      2\n",
       "6.9      2\n",
       "6.4      1\n",
       "6.8      1\n",
       "Name: count, dtype: int64"
      ]
     },
     "execution_count": 13,
     "metadata": {},
     "output_type": "execute_result"
    }
   ],
   "source": [
    "y.value_counts()"
   ]
  },
  {
   "cell_type": "code",
   "execution_count": 14,
   "metadata": {},
   "outputs": [],
   "source": [
    "x_train , x_test, y_train, y_test=train_test_split(x,y,test_size=0.15, random_state=0)"
   ]
  },
  {
   "cell_type": "code",
   "execution_count": 15,
   "metadata": {},
   "outputs": [
    {
     "name": "stdout",
     "output_type": "stream",
     "text": [
      "(136, 13)\n",
      "(25, 13)\n",
      "(136,)\n",
      "(25,)\n"
     ]
    }
   ],
   "source": [
    "print(x_train.shape)\n",
    "print(x_test.shape)\n",
    "print(y_train.shape)\n",
    "print(y_test.shape)"
   ]
  },
  {
   "cell_type": "code",
   "execution_count": 16,
   "metadata": {},
   "outputs": [],
   "source": [
    "trainx = pd.DataFrame(x_train)\n",
    "trainx[label] = y_train\n",
    "\n",
    "testx=pd.DataFrame(x_test)\n",
    "testx[label] = y_test"
   ]
  },
  {
   "cell_type": "code",
   "execution_count": 17,
   "metadata": {},
   "outputs": [
    {
     "name": "stdout",
     "output_type": "stream",
     "text": [
      "(136, 14)\n",
      "(25, 14)\n"
     ]
    }
   ],
   "source": [
    "print(trainx.shape)\n",
    "print(testx.shape)"
   ]
  },
  {
   "cell_type": "code",
   "execution_count": 18,
   "metadata": {},
   "outputs": [
    {
     "data": {
      "text/html": [
       "<div>\n",
       "<style scoped>\n",
       "    .dataframe tbody tr th:only-of-type {\n",
       "        vertical-align: middle;\n",
       "    }\n",
       "\n",
       "    .dataframe tbody tr th {\n",
       "        vertical-align: top;\n",
       "    }\n",
       "\n",
       "    .dataframe thead th {\n",
       "        text-align: right;\n",
       "    }\n",
       "</style>\n",
       "<table border=\"1\" class=\"dataframe\">\n",
       "  <thead>\n",
       "    <tr style=\"text-align: right;\">\n",
       "      <th></th>\n",
       "      <th>Product_id</th>\n",
       "      <th>Price</th>\n",
       "      <th>Sale</th>\n",
       "      <th>weight</th>\n",
       "      <th>resoloution</th>\n",
       "      <th>ppi</th>\n",
       "      <th>cpu core</th>\n",
       "      <th>cpu freq</th>\n",
       "      <th>internal mem</th>\n",
       "      <th>ram</th>\n",
       "      <th>RearCam</th>\n",
       "      <th>Front_Cam</th>\n",
       "      <th>battery</th>\n",
       "      <th>thickness</th>\n",
       "    </tr>\n",
       "  </thead>\n",
       "  <tbody>\n",
       "    <tr>\n",
       "      <th>33</th>\n",
       "      <td>1020</td>\n",
       "      <td>2654</td>\n",
       "      <td>30</td>\n",
       "      <td>151.0</td>\n",
       "      <td>5.7</td>\n",
       "      <td>386</td>\n",
       "      <td>8</td>\n",
       "      <td>1.550</td>\n",
       "      <td>32.0</td>\n",
       "      <td>2.0</td>\n",
       "      <td>16.0</td>\n",
       "      <td>5.0</td>\n",
       "      <td>3050</td>\n",
       "      <td>5.9</td>\n",
       "    </tr>\n",
       "    <tr>\n",
       "      <th>148</th>\n",
       "      <td>851</td>\n",
       "      <td>3055</td>\n",
       "      <td>2106</td>\n",
       "      <td>158.0</td>\n",
       "      <td>5.5</td>\n",
       "      <td>401</td>\n",
       "      <td>4</td>\n",
       "      <td>1.875</td>\n",
       "      <td>64.0</td>\n",
       "      <td>6.0</td>\n",
       "      <td>16.0</td>\n",
       "      <td>8.0</td>\n",
       "      <td>3000</td>\n",
       "      <td>7.4</td>\n",
       "    </tr>\n",
       "    <tr>\n",
       "      <th>61</th>\n",
       "      <td>577</td>\n",
       "      <td>2746</td>\n",
       "      <td>66</td>\n",
       "      <td>158.0</td>\n",
       "      <td>5.5</td>\n",
       "      <td>401</td>\n",
       "      <td>4</td>\n",
       "      <td>1.830</td>\n",
       "      <td>64.0</td>\n",
       "      <td>4.0</td>\n",
       "      <td>13.0</td>\n",
       "      <td>5.0</td>\n",
       "      <td>4000</td>\n",
       "      <td>8.5</td>\n",
       "    </tr>\n",
       "    <tr>\n",
       "      <th>98</th>\n",
       "      <td>183</td>\n",
       "      <td>1522</td>\n",
       "      <td>187</td>\n",
       "      <td>160.0</td>\n",
       "      <td>5.0</td>\n",
       "      <td>220</td>\n",
       "      <td>2</td>\n",
       "      <td>1.200</td>\n",
       "      <td>0.0</td>\n",
       "      <td>1.0</td>\n",
       "      <td>8.0</td>\n",
       "      <td>0.0</td>\n",
       "      <td>2500</td>\n",
       "      <td>10.8</td>\n",
       "    </tr>\n",
       "    <tr>\n",
       "      <th>122</th>\n",
       "      <td>1327</td>\n",
       "      <td>2001</td>\n",
       "      <td>393</td>\n",
       "      <td>194.8</td>\n",
       "      <td>5.7</td>\n",
       "      <td>258</td>\n",
       "      <td>4</td>\n",
       "      <td>1.200</td>\n",
       "      <td>16.0</td>\n",
       "      <td>2.0</td>\n",
       "      <td>8.0</td>\n",
       "      <td>1.0</td>\n",
       "      <td>3400</td>\n",
       "      <td>10.2</td>\n",
       "    </tr>\n",
       "  </tbody>\n",
       "</table>\n",
       "</div>"
      ],
      "text/plain": [
       "     Product_id  Price  Sale  weight  resoloution  ppi  cpu core  cpu freq  \\\n",
       "33         1020   2654    30   151.0          5.7  386         8     1.550   \n",
       "148         851   3055  2106   158.0          5.5  401         4     1.875   \n",
       "61          577   2746    66   158.0          5.5  401         4     1.830   \n",
       "98          183   1522   187   160.0          5.0  220         2     1.200   \n",
       "122        1327   2001   393   194.8          5.7  258         4     1.200   \n",
       "\n",
       "     internal mem  ram  RearCam  Front_Cam  battery  thickness  \n",
       "33           32.0  2.0     16.0        5.0     3050        5.9  \n",
       "148          64.0  6.0     16.0        8.0     3000        7.4  \n",
       "61           64.0  4.0     13.0        5.0     4000        8.5  \n",
       "98            0.0  1.0      8.0        0.0     2500       10.8  \n",
       "122          16.0  2.0      8.0        1.0     3400       10.2  "
      ]
     },
     "execution_count": 18,
     "metadata": {},
     "output_type": "execute_result"
    }
   ],
   "source": [
    "trainx.head()"
   ]
  },
  {
   "cell_type": "code",
   "execution_count": 19,
   "metadata": {},
   "outputs": [
    {
     "data": {
      "text/plain": [
       "Product_id      0\n",
       "Price           0\n",
       "Sale            0\n",
       "weight          0\n",
       "resoloution     0\n",
       "ppi             0\n",
       "cpu core        0\n",
       "cpu freq        0\n",
       "internal mem    0\n",
       "ram             0\n",
       "RearCam         0\n",
       "Front_Cam       0\n",
       "battery         0\n",
       "thickness       0\n",
       "dtype: int64"
      ]
     },
     "execution_count": 19,
     "metadata": {},
     "output_type": "execute_result"
    }
   ],
   "source": [
    "trainx.isnull().sum()"
   ]
  },
  {
   "cell_type": "code",
   "execution_count": 20,
   "metadata": {},
   "outputs": [
    {
     "data": {
      "text/plain": [
       "Product_id      0\n",
       "Price           0\n",
       "Sale            0\n",
       "weight          0\n",
       "resoloution     0\n",
       "ppi             0\n",
       "cpu core        0\n",
       "cpu freq        0\n",
       "internal mem    0\n",
       "ram             0\n",
       "RearCam         0\n",
       "Front_Cam       0\n",
       "battery         0\n",
       "thickness       0\n",
       "dtype: int64"
      ]
     },
     "execution_count": 20,
     "metadata": {},
     "output_type": "execute_result"
    }
   ],
   "source": [
    "testx.isnull().sum()"
   ]
  },
  {
   "cell_type": "code",
   "execution_count": 21,
   "metadata": {},
   "outputs": [],
   "source": [
    "trainx.to_csv(\"train-v-1.csv\", index= False)\n",
    "testx.to_csv(\"test-v-1.csv\", index= False)\n"
   ]
  },
  {
   "cell_type": "code",
   "execution_count": 22,
   "metadata": {},
   "outputs": [
    {
     "data": {
      "text/plain": [
       "'mobbucketsagemaker'"
      ]
     },
     "execution_count": 22,
     "metadata": {},
     "output_type": "execute_result"
    }
   ],
   "source": [
    "bucket"
   ]
  },
  {
   "cell_type": "code",
   "execution_count": 23,
   "metadata": {},
   "outputs": [
    {
     "name": "stdout",
     "output_type": "stream",
     "text": [
      "s3://mobbucketsagemaker/sagemaker/Cellphone/sklearncontainer/train-v-1.csv\n",
      "s3://mobbucketsagemaker/sagemaker/Cellphone/sklearncontainer/test-v-1.csv\n"
     ]
    }
   ],
   "source": [
    "sk_prefix = \"sagemaker/Cellphone/sklearncontainer\"\n",
    "trainpath = sess.upload_data(\n",
    "    path=\"train-v-1.csv\", bucket=bucket,key_prefix=sk_prefix\n",
    ")\n",
    "\n",
    "testpath = sess.upload_data(\n",
    "    path=\"test-v-1.csv\",bucket=bucket, key_prefix=sk_prefix\n",
    ")\n",
    "print(trainpath)\n",
    "print(testpath)"
   ]
  },
  {
   "cell_type": "code",
   "execution_count": 24,
   "metadata": {},
   "outputs": [
    {
     "name": "stdout",
     "output_type": "stream",
     "text": [
      "Overwriting script1.py\n"
     ]
    }
   ],
   "source": [
    "%%writefile script1.py\n",
    "import argparse\n",
    "from sklearn.ensemble import RandomForestClassifier\n",
    "from sklearn.datasets import load_iris\n",
    "from sklearn.model_selection import train_test_split\n",
    "import joblib\n",
    "\n",
    "def train_model(n_estimators, random_state):\n",
    "    # Load dataset\n",
    "    iris = load_iris()\n",
    "    X_train, X_test, y_train, y_test = train_test_split(iris.data, iris.target, test_size=0.2, random_state=random_state)\n",
    "    \n",
    "    # Train RandomForestClassifier\n",
    "    clf = RandomForestClassifier(n_estimators=n_estimators, random_state=random_state)\n",
    "    clf.fit(X_train, y_train)\n",
    "    \n",
    "    # Evaluate model\n",
    "    accuracy = clf.score(X_test, y_test)\n",
    "    print(f\"Model accuracy: {accuracy}\")\n",
    "    \n",
    "    # Save model\n",
    "    joblib.dump(clf, 'model.joblib')\n",
    "    \n",
    "if __name__ == \"__main__\":\n",
    "    parser = argparse.ArgumentParser(description='Train RandomForestClassifier')\n",
    "    parser.add_argument('--n_estimators', type=int, default=100, help='Number of trees in the forest')\n",
    "    parser.add_argument('--random_state', type=int, default=0, help='Seed used by the random number generator')\n",
    "    parser.add_argument(\"--train-file\", type=str, default=\"train-v-1.csv\")\n",
    "    parser.add_argument(\"--test-file\", type=str, default=\"test-v-1.csv\")\n",
    "    args = parser.parse_args()\n",
    "    \n",
    "    try:\n",
    "        train_model(args.n_estimators, args.random_state)\n",
    "        print(\"Training job completed successfully!\")\n",
    "    except Exception as e:\n",
    "        print(f\"Training job failed with error: {str(e)}\")\n",
    "\n",
    "\n",
    "\n",
    "\n",
    "\n",
    "\n",
    "\n",
    "\n",
    "\n",
    "\n",
    "\n"
   ]
  },
  {
   "cell_type": "code",
   "execution_count": 25,
   "metadata": {},
   "outputs": [],
   "source": [
    "\n",
    "from sagemaker import Session\n",
    "from sagemaker.sklearn.estimator import SKLearn\n",
    "\n",
    "# Create a SageMaker session with an explicit region\n",
    "sagemaker_session = Session(boto_session=boto3.Session(region_name='us-east-1'))\n",
    "\n",
    "FRAMEWORK_VERSION = \"0.23-1\"\n",
    "\n",
    "sklearn_estimator = SKLearn(\n",
    "    entry_point=\"script1.py\",\n",
    "    role=\"arn:aws:iam::427665335717:role/service-role/AmazonSageMaker-ExecutionRole-20240408T103602\",  # Corrected ARN for a role\n",
    "    instance_count=1,\n",
    "    instance_type=\"ml.m5.large\",  # Corrected instance type\n",
    "    framework_version=FRAMEWORK_VERSION,\n",
    "    base_job_name=\"CC-custom-sklearn\",\n",
    "    hyperparameters={\n",
    "        \"n_estimators\": 100,\n",
    "        \"random_state\": 0 ,\n",
    "    },\n",
    "    use_spot_instances=True,\n",
    "    max_wait=7200,\n",
    "    max_run=3600,\n",
    "    sagemaker_session=sagemaker_session  # Use the explicit session\n",
    ")\n",
    "\n",
    "\n",
    "\n"
   ]
  },
  {
   "cell_type": "code",
   "execution_count": 26,
   "metadata": {},
   "outputs": [
    {
     "name": "stderr",
     "output_type": "stream",
     "text": [
      "INFO:sagemaker:Creating training-job with name: CC-custom-sklearn-2024-04-16-17-47-32-247\n"
     ]
    },
    {
     "name": "stdout",
     "output_type": "stream",
     "text": [
      "2024-04-16 17:47:40 Starting - Starting the training job...\n",
      "2024-04-16 17:47:57 Starting - Preparing the instances for training...\n",
      "2024-04-16 17:48:31 Downloading - Downloading input data...\n",
      "2024-04-16 17:48:56 Downloading - Downloading the training image..2024-04-16 17:49:41,587 sagemaker-containers INFO     Imported framework sagemaker_sklearn_container.training\n",
      "2024-04-16 17:49:41,590 sagemaker-training-toolkit INFO     No GPUs detected (normal if no gpus installed)\n",
      "2024-04-16 17:49:41,627 sagemaker_sklearn_container.training INFO     Invoking user training script.\n",
      "2024-04-16 17:49:41,808 sagemaker-training-toolkit INFO     No GPUs detected (normal if no gpus installed)\n",
      "2024-04-16 17:49:41,820 sagemaker-training-toolkit INFO     No GPUs detected (normal if no gpus installed)\n",
      "2024-04-16 17:49:41,831 sagemaker-training-toolkit INFO     No GPUs detected (normal if no gpus installed)\n",
      "2024-04-16 17:49:41,840 sagemaker-training-toolkit INFO     Invoking user script\n",
      "Training Env:\n",
      "{\n",
      "    \"additional_framework_parameters\": {},\n",
      "    \"channel_input_dirs\": {\n",
      "        \"test\": \"/opt/ml/input/data/test\",\n",
      "        \"train\": \"/opt/ml/input/data/train\"\n",
      "    },\n",
      "    \"current_host\": \"algo-1\",\n",
      "    \"framework_module\": \"sagemaker_sklearn_container.training:main\",\n",
      "    \"hosts\": [\n",
      "        \"algo-1\"\n",
      "    ],\n",
      "    \"hyperparameters\": {\n",
      "        \"n_estimators\": 100,\n",
      "        \"random_state\": 0\n",
      "    },\n",
      "    \"input_config_dir\": \"/opt/ml/input/config\",\n",
      "    \"input_data_config\": {\n",
      "        \"test\": {\n",
      "            \"TrainingInputMode\": \"File\",\n",
      "            \"S3DistributionType\": \"FullyReplicated\",\n",
      "            \"RecordWrapperType\": \"None\"\n",
      "        },\n",
      "        \"train\": {\n",
      "            \"TrainingInputMode\": \"File\",\n",
      "            \"S3DistributionType\": \"FullyReplicated\",\n",
      "            \"RecordWrapperType\": \"None\"\n",
      "        }\n",
      "    },\n",
      "    \"input_dir\": \"/opt/ml/input\",\n",
      "    \"is_master\": true,\n",
      "    \"job_name\": \"CC-custom-sklearn-2024-04-16-17-47-32-247\",\n",
      "    \"log_level\": 20,\n",
      "    \"master_hostname\": \"algo-1\",\n",
      "    \"model_dir\": \"/opt/ml/model\",\n",
      "    \"module_dir\": \"s3://sagemaker-us-east-1-427665335717/CC-custom-sklearn-2024-04-16-17-47-32-247/source/sourcedir.tar.gz\",\n",
      "    \"module_name\": \"script1\",\n",
      "    \"network_interface_name\": \"eth0\",\n",
      "    \"num_cpus\": 2,\n",
      "    \"num_gpus\": 0,\n",
      "    \"output_data_dir\": \"/opt/ml/output/data\",\n",
      "    \"output_dir\": \"/opt/ml/output\",\n",
      "    \"output_intermediate_dir\": \"/opt/ml/output/intermediate\",\n",
      "    \"resource_config\": {\n",
      "        \"current_host\": \"algo-1\",\n",
      "        \"current_instance_type\": \"ml.m5.large\",\n",
      "        \"current_group_name\": \"homogeneousCluster\",\n",
      "        \"hosts\": [\n",
      "            \"algo-1\"\n",
      "        ],\n",
      "        \"instance_groups\": [\n",
      "            {\n",
      "                \"instance_group_name\": \"homogeneousCluster\",\n",
      "                \"instance_type\": \"ml.m5.large\",\n",
      "                \"hosts\": [\n",
      "                    \"algo-1\"\n",
      "                ]\n",
      "            }\n",
      "        ],\n",
      "        \"network_interface_name\": \"eth0\"\n",
      "    },\n",
      "    \"user_entry_point\": \"script1.py\"\n",
      "}\n",
      "Environment variables:\n",
      "SM_HOSTS=[\"algo-1\"]\n",
      "SM_NETWORK_INTERFACE_NAME=eth0\n",
      "SM_HPS={\"n_estimators\":100,\"random_state\":0}\n",
      "SM_USER_ENTRY_POINT=script1.py\n",
      "SM_FRAMEWORK_PARAMS={}\n",
      "SM_RESOURCE_CONFIG={\"current_group_name\":\"homogeneousCluster\",\"current_host\":\"algo-1\",\"current_instance_type\":\"ml.m5.large\",\"hosts\":[\"algo-1\"],\"instance_groups\":[{\"hosts\":[\"algo-1\"],\"instance_group_name\":\"homogeneousCluster\",\"instance_type\":\"ml.m5.large\"}],\"network_interface_name\":\"eth0\"}\n",
      "SM_INPUT_DATA_CONFIG={\"test\":{\"RecordWrapperType\":\"None\",\"S3DistributionType\":\"FullyReplicated\",\"TrainingInputMode\":\"File\"},\"train\":{\"RecordWrapperType\":\"None\",\"S3DistributionType\":\"FullyReplicated\",\"TrainingInputMode\":\"File\"}}\n",
      "SM_OUTPUT_DATA_DIR=/opt/ml/output/data\n",
      "SM_CHANNELS=[\"test\",\"train\"]\n",
      "SM_CURRENT_HOST=algo-1\n",
      "SM_MODULE_NAME=script1\n",
      "SM_LOG_LEVEL=20\n",
      "SM_FRAMEWORK_MODULE=sagemaker_sklearn_container.training:main\n",
      "SM_INPUT_DIR=/opt/ml/input\n",
      "SM_INPUT_CONFIG_DIR=/opt/ml/input/config\n",
      "SM_OUTPUT_DIR=/opt/ml/output\n",
      "SM_NUM_CPUS=2\n",
      "SM_NUM_GPUS=0\n",
      "SM_MODEL_DIR=/opt/ml/model\n",
      "SM_MODULE_DIR=s3://sagemaker-us-east-1-427665335717/CC-custom-sklearn-2024-04-16-17-47-32-247/source/sourcedir.tar.gz\n",
      "SM_TRAINING_ENV={\"additional_framework_parameters\":{},\"channel_input_dirs\":{\"test\":\"/opt/ml/input/data/test\",\"train\":\"/opt/ml/input/data/train\"},\"current_host\":\"algo-1\",\"framework_module\":\"sagemaker_sklearn_container.training:main\",\"hosts\":[\"algo-1\"],\"hyperparameters\":{\"n_estimators\":100,\"random_state\":0},\"input_config_dir\":\"/opt/ml/input/config\",\"input_data_config\":{\"test\":{\"RecordWrapperType\":\"None\",\"S3DistributionType\":\"FullyReplicated\",\"TrainingInputMode\":\"File\"},\"train\":{\"RecordWrapperType\":\"None\",\"S3DistributionType\":\"FullyReplicated\",\"TrainingInputMode\":\"File\"}},\"input_dir\":\"/opt/ml/input\",\"is_master\":true,\"job_name\":\"CC-custom-sklearn-2024-04-16-17-47-32-247\",\"log_level\":20,\"master_hostname\":\"algo-1\",\"model_dir\":\"/opt/ml/model\",\"module_dir\":\"s3://sagemaker-us-east-1-427665335717/CC-custom-sklearn-2024-04-16-17-47-32-247/source/sourcedir.tar.gz\",\"module_name\":\"script1\",\"network_interface_name\":\"eth0\",\"num_cpus\":2,\"num_gpus\":0,\"output_data_dir\":\"/opt/ml/output/data\",\"output_dir\":\"/opt/ml/output\",\"output_intermediate_dir\":\"/opt/ml/output/intermediate\",\"resource_config\":{\"current_group_name\":\"homogeneousCluster\",\"current_host\":\"algo-1\",\"current_instance_type\":\"ml.m5.large\",\"hosts\":[\"algo-1\"],\"instance_groups\":[{\"hosts\":[\"algo-1\"],\"instance_group_name\":\"homogeneousCluster\",\"instance_type\":\"ml.m5.large\"}],\"network_interface_name\":\"eth0\"},\"user_entry_point\":\"script1.py\"}\n",
      "SM_USER_ARGS=[\"--n_estimators\",\"100\",\"--random_state\",\"0\"]\n",
      "SM_OUTPUT_INTERMEDIATE_DIR=/opt/ml/output/intermediate\n",
      "SM_CHANNEL_TEST=/opt/ml/input/data/test\n",
      "SM_CHANNEL_TRAIN=/opt/ml/input/data/train\n",
      "SM_HP_N_ESTIMATORS=100\n",
      "SM_HP_RANDOM_STATE=0\n",
      "PYTHONPATH=/opt/ml/code:/miniconda3/bin:/miniconda3/lib/python37.zip:/miniconda3/lib/python3.7:/miniconda3/lib/python3.7/lib-dynload:/miniconda3/lib/python3.7/site-packages\n",
      "Invoking script with the following command:\n",
      "/miniconda3/bin/python script1.py --n_estimators 100 --random_state 0\n",
      "Model accuracy: 1.0\n",
      "Training job completed successfully!\n",
      "2024-04-16 17:49:42,739 sagemaker-containers INFO     Reporting training SUCCESS\n",
      "\n",
      "2024-04-16 17:49:57 Training - Training image download completed. Training in progress.\n",
      "2024-04-16 17:49:57 Uploading - Uploading generated training model\n",
      "2024-04-16 17:49:57 Completed - Training job completed\n",
      "Training seconds: 86\n",
      "Billable seconds: 42\n",
      "Managed Spot Training savings: 51.2%\n"
     ]
    }
   ],
   "source": [
    "sklearn_estimator.fit({\"train\": trainpath, \"test\": testpath}, wait=True)"
   ]
  },
  {
   "cell_type": "code",
   "execution_count": null,
   "metadata": {},
   "outputs": [],
   "source": [
    "import argparse\n",
    "import joblib\n",
    "from sklearn.ensemble import RandomForestClassifier\n",
    "from sklearn.metrics import accuracy_score  # Import for evaluation\n",
    "\n",
    "def load_model():\n",
    "    \"\"\"Loads the trained Random Forest model from 'model.joblib'.\"\"\"\n",
    "    try:\n",
    "        clf = joblib.load('model.joblib')\n",
    "        print(\"Model loaded successfully!\")\n",
    "        return clf\n",
    "    except FileNotFoundError:\n",
    "        print(\"Error: Model file 'model.joblib' not found. Please train the model first.\")\n",
    "        return None\n",
    "\n",
    "def predict(model, data):\n",
    "    \"\"\"Predicts the class labels for new data using the loaded model.\"\"\"\n",
    "    if model is not None:\n",
    "        predictions = model.predict(data)\n",
    "        return predictions\n",
    "    else:\n",
    "        print(\"Model could not be loaded. Prediction failed.\")\n",
    "        return None\n",
    "\n",
    "def evaluate(model, X_test, y_test):\n",
    "    \"\"\"Evaluates the loaded model on the provided test data.\"\"\"\n",
    "    if model is not None:\n",
    "        predictions = model.predict(X_test)\n",
    "        accuracy = accuracy_score(y_test, predictions)\n",
    "        print(f\"Model accuracy on test data: {accuracy:.4f}\")\n",
    "    else:\n",
    "        print(\"Model could not be loaded. Evaluation failed.\")\n",
    "\n",
    "if __name__ == \"__main__\":\n",
    "    parser = argparse.ArgumentParser(description='Deploy RandomForestClassifier')\n",
    "    parser.add_argument('--predict-data', type=str, help='Path to data file for prediction')\n",
    "    parser.add_argument('--evaluate', action='store_true', help='Evaluate model on test data (if provided)')\n",
    "    args = parser.parse_args()\n",
    "\n",
    "    model = load_model()\n",
    "\n",
    "    if args.predict_data is not None:\n",
    "        # Implement data loading/preprocessing logic here based on your data format\n",
    "        # ...\n",
    "        data = load_data(args.predict_data)  # Replace with your data loading function\n",
    "        predictions = predict(model, data)\n",
    "        print(f\"Predictions: {predictions}\")\n",
    "\n",
    "    if args.evaluate:\n",
    "        # Implement test data loading/preprocessing logic here (if you have separate test data)\n",
    "        # ...\n",
    "        X_test, y_test = load_test_data()  # Replace with your test data loading function\n",
    "        evaluate(model, X_test, y_test)"
   ]
  }
 ],
 "metadata": {
  "kernelspec": {
   "display_name": "base",
   "language": "python",
   "name": "python3"
  },
  "language_info": {
   "codemirror_mode": {
    "name": "ipython",
    "version": 3
   },
   "file_extension": ".py",
   "mimetype": "text/x-python",
   "name": "python",
   "nbconvert_exporter": "python",
   "pygments_lexer": "ipython3",
   "version": "3.11.8"
  }
 },
 "nbformat": 4,
 "nbformat_minor": 2
}
